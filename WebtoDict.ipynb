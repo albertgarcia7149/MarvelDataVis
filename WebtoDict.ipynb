{
 "cells": [
  {
   "cell_type": "code",
   "execution_count": 81,
   "metadata": {
    "collapsed": true
   },
   "outputs": [],
   "source": [
    "from bs4 import BeautifulSoup\n",
    "import urllib\n",
    "import re \n",
    "import numpy as np\n",
    "import json\n",
    "from collections import OrderedDict\n",
    "import warnings\n",
    "warnings.filterwarnings('ignore')"
   ]
  },
  {
   "cell_type": "code",
   "execution_count": 82,
   "metadata": {
    "collapsed": true
   },
   "outputs": [],
   "source": [
    "page = urllib.request.urlopen('http://www.imdb.com/list/ls036115103/').read()"
   ]
  },
  {
   "cell_type": "code",
   "execution_count": 83,
   "metadata": {},
   "outputs": [
    {
     "name": "stdout",
     "output_type": "stream",
     "text": [
      "<class 'bs4.BeautifulSoup'>\n"
     ]
    }
   ],
   "source": [
    "soup = BeautifulSoup(page)\n",
    "print(type(soup))"
   ]
  },
  {
   "cell_type": "code",
   "execution_count": 84,
   "metadata": {
    "collapsed": true
   },
   "outputs": [],
   "source": [
    "characters_ls_even = soup.find_all(\"div\", class_=\"list_item even\")\n",
    "characters_ls_odd = soup.find_all(\"div\", class_=\"list_item odd\")\n",
    "chars_odd_dict = OrderedDict()\n",
    "chars_even_dict = OrderedDict()"
   ]
  },
  {
   "cell_type": "code",
   "execution_count": 85,
   "metadata": {},
   "outputs": [
    {
     "data": {
      "text/plain": [
       "<div class=\"list_item odd\">\n",
       "<div class=\"image\"> <a href=\"/character/ch0556868/\"><div class=\"hover-over-image zero-z-index\" data-const=\"ch0556868\">\n",
       "<img alt=\"Image of Tony Stark\" class=\"zero-z-index\" height=\"209\" src=\"https://images-na.ssl-images-amazon.com/images/M/MV5BZmE1YjFkNGQtMjYyNC00NmFjLTkyNjQtNDMxYzc5ZTQ4MGZhXkEyXkFqcGdeQXVyNjczMDY1MzM@._V1._SY209_CR87,0,140,209_.jpg\" width=\"140\"/>\n",
       "</div>\n",
       "</a>\n",
       "</div>\n",
       "<div class=\"number\">1.</div>\n",
       "<div class=\"info\">\n",
       "<b><a href=\"/character/ch0556868/\">Tony Stark</a></b>\n",
       "<div class=\"secondary\"><a href=\"/title/tt0371746/?ref_=rlm\">Iron Man</a> <span class=\"year_type\">(2008)</span>, <a href=\"/name/nm0000375/?ref_=rlm\">Robert Downey Jr.</a></div>\n",
       "</div>\n",
       "<div class=\"description\"><span class=\"bqstart\">“ </span>played by Robert Downey Jr.<br/><br/>* IRON MAN &lt;77:15&gt;<br/>* THE INCREDIBLE HULK &lt;:30&gt;<br/>* IRON MAN 2 &lt;61:15&gt;<br/>* THE AVENGERS &lt;32:15&gt;<br/>* IRON MAN 3 &lt;62:15&gt;<br/>* AVENGERS: AGE OF ULTRON &lt;27:15&gt;<br/>* CAPTAIN AMERICA: CIVIL WAR &lt;37:15&gt;<br/>* SPIDER-MAN: HOMECOMING &lt;8&gt;<br/><br/>306 minutes<span class=\"bqend\"> ”</span> - ninewheels0</div>\n",
       "<div class=\"clear\"> </div>\n",
       "</div>"
      ]
     },
     "execution_count": 85,
     "metadata": {},
     "output_type": "execute_result"
    }
   ],
   "source": [
    "characters_ls_odd[0]"
   ]
  },
  {
   "cell_type": "code",
   "execution_count": 86,
   "metadata": {
    "collapsed": true
   },
   "outputs": [],
   "source": [
    "for character in characters_ls_odd:\n",
    "    chars_odd_dict[character.b.get_text()] = character.find(\"div\", {\"class\": \"description\"}).get_text()\n",
    "for character in characters_ls_even:\n",
    "    chars_even_dict[character.b.get_text()] = character.find(\"div\", {\"class\": \"description\"}).get_text()"
   ]
  },
  {
   "cell_type": "code",
   "execution_count": 87,
   "metadata": {},
   "outputs": [
    {
     "data": {
      "text/plain": [
       "'“\\xa0played by Chris Hemsworth* THOR <43:15>* THE AVENGERS <18>* THOR: THE DARK WORLD <35>* AVENGERS: AGE OF ULTRON <13:15>* DOCTOR STRANGE <:45>* THOR: RAGNAROK <57>167:15 minutes\\xa0” - ninewheels0'"
      ]
     },
     "execution_count": 87,
     "metadata": {},
     "output_type": "execute_result"
    }
   ],
   "source": [
    "characters_ls_odd[1].find(\"div\", {\"class\": \"description\"}).get_text()"
   ]
  },
  {
   "cell_type": "code",
   "execution_count": 88,
   "metadata": {
    "collapsed": true
   },
   "outputs": [],
   "source": [
    "#Implementing a regex filter to filter out \\xa0\n",
    "#txt = chars_even_dict['Agent Phil Coulson']\n",
    "def get_info(txt):\n",
    "    txt = re.subn(pattern=r'\\xa0', repl='', string=txt)[0]\n",
    "    txt = re.subn(pattern=r'ninewheels0', repl='', string=txt)[0]\n",
    "    txt = re.subn(pattern=r' - ', repl='', string=txt)[0]\n",
    "    txt = re.subn(pattern=r'[“”]', repl='', string=txt)[0] #“\n",
    "    txt = re.subn(pattern=r'\\d*:?\\d*? minutes', repl='', string=txt)[0]\n",
    "    \n",
    "    txt = txt.split('*')\n",
    "    temp = OrderedDict()\n",
    "    try: \n",
    "        temp['actor'] = txt[0].split('played by ')[1]\n",
    "    except:\n",
    "        temp['actor'] = txt[0].split('played ')[1]\n",
    "    for i in range(1, len(txt)):\n",
    "        movie_and_duration = txt[i].replace(' ', '', 1).replace('>', '').split(' <')\n",
    "        temp['{0}'.format(movie_and_duration[0].replace('', ''))] = movie_and_duration[1]\n",
    "    \n",
    "    return temp"
   ]
  },
  {
   "cell_type": "markdown",
   "metadata": {
    "collapsed": true
   },
   "source": [
    "Dictionary of the form:\n",
    "    <br>{character_Name: {actor: actor_name, <br>\n",
    "                      movie_1: time_movie_1, <br> \n",
    "                      movie_2: time_movie_2} <br>\n",
    "    \n",
    "}"
   ]
  },
  {
   "cell_type": "code",
   "execution_count": 89,
   "metadata": {
    "collapsed": true
   },
   "outputs": [],
   "source": [
    "for character in chars_odd_dict:\n",
    "    chars_odd_dict[character] = get_info(chars_odd_dict[character])\n",
    "\n",
    "for character in chars_even_dict:\n",
    "    chars_even_dict[character] = get_info(chars_even_dict[character])"
   ]
  },
  {
   "cell_type": "code",
   "execution_count": 90,
   "metadata": {
    "collapsed": true
   },
   "outputs": [],
   "source": [
    "def merge(dict1,*dicts):\n",
    "    for dict2 in dicts:\n",
    "        dict1.update(dict2)\n",
    "    return dict1"
   ]
  },
  {
   "cell_type": "code",
   "execution_count": 91,
   "metadata": {
    "collapsed": true
   },
   "outputs": [],
   "source": [
    "characters = merge(chars_odd_dict, chars_even_dict)"
   ]
  },
  {
   "cell_type": "code",
   "execution_count": 92,
   "metadata": {
    "collapsed": true
   },
   "outputs": [],
   "source": [
    "with open('characters_1.json', 'w') as file:\n",
    "    json.dump(characters, file)"
   ]
  },
  {
   "cell_type": "markdown",
   "metadata": {
    "collapsed": true
   },
   "source": [
    "#Documentation:\n",
    "<p>\n",
    "https://www.crummy.com/software/BeautifulSoup/bs4/doc/ \n",
    "<br>\n",
    "http://www.imdb.com/list/ls036115103/?start=1&view=detail&sort=listorian:asc\n",
    "<br>\n",
    "http://web.stanford.edu/~zlotnick/TextAsData/Web_Scraping_with_Beautiful_Soup.html\n",
    "</p>\n"
   ]
  },
  {
   "cell_type": "code",
   "execution_count": null,
   "metadata": {
    "collapsed": true
   },
   "outputs": [],
   "source": []
  }
 ],
 "metadata": {
  "kernelspec": {
   "display_name": "Python 3",
   "language": "python",
   "name": "python3"
  },
  "language_info": {
   "codemirror_mode": {
    "name": "ipython",
    "version": 3
   },
   "file_extension": ".py",
   "mimetype": "text/x-python",
   "name": "python",
   "nbconvert_exporter": "python",
   "pygments_lexer": "ipython3",
   "version": "3.4.4"
  }
 },
 "nbformat": 4,
 "nbformat_minor": 2
}
